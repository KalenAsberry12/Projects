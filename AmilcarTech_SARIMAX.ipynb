{
 "cells": [
  {
   "cell_type": "code",
   "execution_count": 3,
   "metadata": {},
   "outputs": [],
   "source": [
    "# import data\n",
    "import numpy as np\n",
    "import matplotlib.pyplot as plt  # To visualize\n",
    "import pandas as pd  # To read data\n",
    "import pandas as pd\n",
    "from statsmodels.tsa.statespace.sarimax import SARIMAX\n",
    "%matplotlib inline"
   ]
  },
  {
   "cell_type": "code",
   "execution_count": 4,
   "metadata": {},
   "outputs": [],
   "source": [
    "df = pd.read_csv('Resources/atech_data.csv')"
   ]
  },
  {
   "cell_type": "code",
   "execution_count": 5,
   "metadata": {},
   "outputs": [
    {
     "data": {
      "text/html": [
       "<div>\n",
       "<style scoped>\n",
       "    .dataframe tbody tr th:only-of-type {\n",
       "        vertical-align: middle;\n",
       "    }\n",
       "\n",
       "    .dataframe tbody tr th {\n",
       "        vertical-align: top;\n",
       "    }\n",
       "\n",
       "    .dataframe thead th {\n",
       "        text-align: right;\n",
       "    }\n",
       "</style>\n",
       "<table border=\"1\" class=\"dataframe\">\n",
       "  <thead>\n",
       "    <tr style=\"text-align: right;\">\n",
       "      <th></th>\n",
       "      <th>PRIX_VENTE</th>\n",
       "      <th>DATE_VENTE</th>\n",
       "      <th>ANNEE_VENTE</th>\n",
       "    </tr>\n",
       "  </thead>\n",
       "  <tbody>\n",
       "    <tr>\n",
       "      <th>0</th>\n",
       "      <td>1050.55</td>\n",
       "      <td>1/2/2007</td>\n",
       "      <td>2007</td>\n",
       "    </tr>\n",
       "    <tr>\n",
       "      <th>1</th>\n",
       "      <td>14.35</td>\n",
       "      <td>1/2/2007</td>\n",
       "      <td>2007</td>\n",
       "    </tr>\n",
       "    <tr>\n",
       "      <th>2</th>\n",
       "      <td>1894.46</td>\n",
       "      <td>1/3/2007</td>\n",
       "      <td>2007</td>\n",
       "    </tr>\n",
       "    <tr>\n",
       "      <th>3</th>\n",
       "      <td>28.70</td>\n",
       "      <td>1/3/2007</td>\n",
       "      <td>2007</td>\n",
       "    </tr>\n",
       "    <tr>\n",
       "      <th>4</th>\n",
       "      <td>13.06</td>\n",
       "      <td>1/3/2007</td>\n",
       "      <td>2007</td>\n",
       "    </tr>\n",
       "  </tbody>\n",
       "</table>\n",
       "</div>"
      ],
      "text/plain": [
       "   PRIX_VENTE DATE_VENTE  ANNEE_VENTE\n",
       "0     1050.55   1/2/2007         2007\n",
       "1       14.35   1/2/2007         2007\n",
       "2     1894.46   1/3/2007         2007\n",
       "3       28.70   1/3/2007         2007\n",
       "4       13.06   1/3/2007         2007"
      ]
     },
     "execution_count": 5,
     "metadata": {},
     "output_type": "execute_result"
    }
   ],
   "source": [
    "df.drop(columns=['ID_VENTE', 'ID_ARTICLE', 'ID_CLIENT', 'ID_ETABLISSEMENT', 'LIBELLE_VENTE', 'DEVISE_VENTE'], inplace=True)\n",
    "df.head()\n"
   ]
  },
  {
   "cell_type": "code",
   "execution_count": 7,
   "metadata": {},
   "outputs": [],
   "source": [
    "df.index = df.DATE_VENTE"
   ]
  },
  {
   "cell_type": "code",
   "execution_count": 8,
   "metadata": {},
   "outputs": [
    {
     "data": {
      "text/html": [
       "<div>\n",
       "<style scoped>\n",
       "    .dataframe tbody tr th:only-of-type {\n",
       "        vertical-align: middle;\n",
       "    }\n",
       "\n",
       "    .dataframe tbody tr th {\n",
       "        vertical-align: top;\n",
       "    }\n",
       "\n",
       "    .dataframe thead th {\n",
       "        text-align: right;\n",
       "    }\n",
       "</style>\n",
       "<table border=\"1\" class=\"dataframe\">\n",
       "  <thead>\n",
       "    <tr style=\"text-align: right;\">\n",
       "      <th></th>\n",
       "      <th>PRIX_VENTE</th>\n",
       "      <th>DATE_VENTE</th>\n",
       "      <th>ANNEE_VENTE</th>\n",
       "    </tr>\n",
       "    <tr>\n",
       "      <th>DATE_VENTE</th>\n",
       "      <th></th>\n",
       "      <th></th>\n",
       "      <th></th>\n",
       "    </tr>\n",
       "  </thead>\n",
       "  <tbody>\n",
       "    <tr>\n",
       "      <th>1/2/2007</th>\n",
       "      <td>1050.55</td>\n",
       "      <td>1/2/2007</td>\n",
       "      <td>2007</td>\n",
       "    </tr>\n",
       "    <tr>\n",
       "      <th>1/2/2007</th>\n",
       "      <td>14.35</td>\n",
       "      <td>1/2/2007</td>\n",
       "      <td>2007</td>\n",
       "    </tr>\n",
       "    <tr>\n",
       "      <th>1/3/2007</th>\n",
       "      <td>1894.46</td>\n",
       "      <td>1/3/2007</td>\n",
       "      <td>2007</td>\n",
       "    </tr>\n",
       "    <tr>\n",
       "      <th>1/3/2007</th>\n",
       "      <td>28.70</td>\n",
       "      <td>1/3/2007</td>\n",
       "      <td>2007</td>\n",
       "    </tr>\n",
       "    <tr>\n",
       "      <th>1/3/2007</th>\n",
       "      <td>13.06</td>\n",
       "      <td>1/3/2007</td>\n",
       "      <td>2007</td>\n",
       "    </tr>\n",
       "  </tbody>\n",
       "</table>\n",
       "</div>"
      ],
      "text/plain": [
       "            PRIX_VENTE DATE_VENTE  ANNEE_VENTE\n",
       "DATE_VENTE                                    \n",
       "1/2/2007       1050.55   1/2/2007         2007\n",
       "1/2/2007         14.35   1/2/2007         2007\n",
       "1/3/2007       1894.46   1/3/2007         2007\n",
       "1/3/2007         28.70   1/3/2007         2007\n",
       "1/3/2007         13.06   1/3/2007         2007"
      ]
     },
     "execution_count": 8,
     "metadata": {},
     "output_type": "execute_result"
    }
   ],
   "source": [
    "df.head()"
   ]
  },
  {
   "cell_type": "code",
   "execution_count": 9,
   "metadata": {},
   "outputs": [
    {
     "data": {
      "text/plain": [
       "<matplotlib.axes._subplots.AxesSubplot at 0x22370629e48>"
      ]
     },
     "execution_count": 9,
     "metadata": {},
     "output_type": "execute_result"
    },
    {
     "data": {
      "image/png": "[encoded data removed]",
      "text/plain": [
       "<Figure size 432x288 with 1 Axes>"
      ]
     },
     "metadata": {
      "needs_background": "light"
     },
     "output_type": "display_data"
    }
   ],
   "source": [
    "df.plot()"
   ]
  },
  {
   "cell_type": "code",
   "execution_count": 10,
   "metadata": {},
   "outputs": [
    {
     "name": "stderr",
     "output_type": "stream",
     "text": [
      "C:\\Users\\12144\\anaconda3\\envs\\pyvizenv\\lib\\site-packages\\statsmodels\\tsa\\base\\tsa_model.py:218: ValueWarning: A date index has been provided, but it has no associated frequency information and so will be ignored when e.g. forecasting.\n",
      "  ' ignored when e.g. forecasting.', ValueWarning)\n",
      "C:\\Users\\12144\\anaconda3\\envs\\pyvizenv\\lib\\site-packages\\statsmodels\\tsa\\base\\tsa_model.py:218: ValueWarning: A date index has been provided, but it has no associated frequency information and so will be ignored when e.g. forecasting.\n",
      "  ' ignored when e.g. forecasting.', ValueWarning)\n"
     ]
    }
   ],
   "source": [
    "sarimax_model = SARIMAX(df['PRIX_VENTE'],order=(1,1,1),seasonal_order=(1,1,1,4),exog=df['ANNEE_VENTE'])"
   ]
  },
  {
   "cell_type": "code",
   "execution_count": 11,
   "metadata": {},
   "outputs": [
    {
     "name": "stderr",
     "output_type": "stream",
     "text": [
      "C:\\Users\\12144\\anaconda3\\envs\\pyvizenv\\lib\\site-packages\\statsmodels\\base\\model.py:568: ConvergenceWarning: Maximum Likelihood optimization failed to converge. Check mle_retvals\n",
      "  \"Check mle_retvals\", ConvergenceWarning)\n"
     ]
    }
   ],
   "source": [
    "res = sarimax_model.fit(disp=False)"
   ]
  },
  {
   "cell_type": "code",
   "execution_count": 12,
   "metadata": {},
   "outputs": [
    {
     "data": {
      "text/html": [
       "<table class=\"simpletable\">\n",
       "<caption>SARIMAX Results</caption>\n",
       "<tr>\n",
       "  <th>Dep. Variable:</th>            <td>PRIX_VENTE</td>           <th>  No. Observations:  </th>    <td>12142</td>  \n",
       "</tr>\n",
       "<tr>\n",
       "  <th>Model:</th>           <td>SARIMAX(1, 1, 1)x(1, 1, 1, 4)</td> <th>  Log Likelihood     </th> <td>-99500.431</td>\n",
       "</tr>\n",
       "<tr>\n",
       "  <th>Date:</th>                  <td>Wed, 24 Jun 2020</td>        <th>  AIC                </th> <td>199012.862</td>\n",
       "</tr>\n",
       "<tr>\n",
       "  <th>Time:</th>                      <td>12:17:19</td>            <th>  BIC                </th> <td>199057.286</td>\n",
       "</tr>\n",
       "<tr>\n",
       "  <th>Sample:</th>                        <td>0</td>               <th>  HQIC               </th> <td>199027.755</td>\n",
       "</tr>\n",
       "<tr>\n",
       "  <th></th>                           <td> - 12142</td>            <th>                     </th>      <td> </td>    \n",
       "</tr>\n",
       "<tr>\n",
       "  <th>Covariance Type:</th>              <td>opg</td>              <th>                     </th>      <td> </td>    \n",
       "</tr>\n",
       "</table>\n",
       "<table class=\"simpletable\">\n",
       "<tr>\n",
       "       <td></td>          <th>coef</th>     <th>std err</th>      <th>z</th>      <th>P>|z|</th>  <th>[0.025</th>    <th>0.975]</th>  \n",
       "</tr>\n",
       "<tr>\n",
       "  <th>ANNEE_VENTE</th> <td>   -0.1364</td> <td>    1.327</td> <td>   -0.103</td> <td> 0.918</td> <td>   -2.738</td> <td>    2.465</td>\n",
       "</tr>\n",
       "<tr>\n",
       "  <th>ar.L1</th>       <td>    0.0295</td> <td>    0.030</td> <td>    0.995</td> <td> 0.320</td> <td>   -0.029</td> <td>    0.088</td>\n",
       "</tr>\n",
       "<tr>\n",
       "  <th>ma.L1</th>       <td>   -0.9955</td> <td>    0.004</td> <td> -266.696</td> <td> 0.000</td> <td>   -1.003</td> <td>   -0.988</td>\n",
       "</tr>\n",
       "<tr>\n",
       "  <th>ar.S.L4</th>     <td>   -0.0429</td> <td>    0.038</td> <td>   -1.143</td> <td> 0.253</td> <td>   -0.117</td> <td>    0.031</td>\n",
       "</tr>\n",
       "<tr>\n",
       "  <th>ma.S.L4</th>     <td>   -1.0000</td> <td>    0.007</td> <td> -152.032</td> <td> 0.000</td> <td>   -1.013</td> <td>   -0.987</td>\n",
       "</tr>\n",
       "<tr>\n",
       "  <th>sigma2</th>      <td> 2.227e+06</td> <td>    2e-07</td> <td> 1.12e+13</td> <td> 0.000</td> <td> 2.23e+06</td> <td> 2.23e+06</td>\n",
       "</tr>\n",
       "</table>\n",
       "<table class=\"simpletable\">\n",
       "<tr>\n",
       "  <th>Ljung-Box (Q):</th>          <td>44.12</td> <th>  Jarque-Bera (JB):  </th> <td>2613122.11</td>\n",
       "</tr>\n",
       "<tr>\n",
       "  <th>Prob(Q):</th>                <td>0.30</td>  <th>  Prob(JB):          </th>    <td>0.00</td>   \n",
       "</tr>\n",
       "<tr>\n",
       "  <th>Heteroskedasticity (H):</th> <td>0.86</td>  <th>  Skew:              </th>    <td>6.25</td>   \n",
       "</tr>\n",
       "<tr>\n",
       "  <th>Prob(H) (two-sided):</th>    <td>0.00</td>  <th>  Kurtosis:          </th>    <td>73.79</td>  \n",
       "</tr>\n",
       "</table><br/><br/>Warnings:<br/>[1] Covariance matrix calculated using the outer product of gradients (complex-step).<br/>[2] Covariance matrix is singular or near-singular, with condition number 1.63e+29. Standard errors may be unstable."
      ],
      "text/plain": [
       "<class 'statsmodels.iolib.summary.Summary'>\n",
       "\"\"\"\n",
       "                                     SARIMAX Results                                     \n",
       "=========================================================================================\n",
       "Dep. Variable:                        PRIX_VENTE   No. Observations:                12142\n",
       "Model:             SARIMAX(1, 1, 1)x(1, 1, 1, 4)   Log Likelihood              -99500.431\n",
       "Date:                           Wed, 24 Jun 2020   AIC                         199012.862\n",
       "Time:                                   12:17:19   BIC                         199057.286\n",
       "Sample:                                        0   HQIC                        199027.755\n",
       "                                         - 12142                                         \n",
       "Covariance Type:                             opg                                         \n",
       "===============================================================================\n",
       "                  coef    std err          z      P>|z|      [0.025      0.975]\n",
       "-------------------------------------------------------------------------------\n",
       "ANNEE_VENTE    -0.1364      1.327     -0.103      0.918      -2.738       2.465\n",
       "ar.L1           0.0295      0.030      0.995      0.320      -0.029       0.088\n",
       "ma.L1          -0.9955      0.004   -266.696      0.000      -1.003      -0.988\n",
       "ar.S.L4        -0.0429      0.038     -1.143      0.253      -0.117       0.031\n",
       "ma.S.L4        -1.0000      0.007   -152.032      0.000      -1.013      -0.987\n",
       "sigma2       2.227e+06      2e-07   1.12e+13      0.000    2.23e+06    2.23e+06\n",
       "===================================================================================\n",
       "Ljung-Box (Q):                       44.12   Jarque-Bera (JB):           2613122.11\n",
       "Prob(Q):                              0.30   Prob(JB):                         0.00\n",
       "Heteroskedasticity (H):               0.86   Skew:                             6.25\n",
       "Prob(H) (two-sided):                  0.00   Kurtosis:                        73.79\n",
       "===================================================================================\n",
       "\n",
       "Warnings:\n",
       "[1] Covariance matrix calculated using the outer product of gradients (complex-step).\n",
       "[2] Covariance matrix is singular or near-singular, with condition number 1.63e+29. Standard errors may be unstable.\n",
       "\"\"\""
      ]
     },
     "execution_count": 12,
     "metadata": {},
     "output_type": "execute_result"
    }
   ],
   "source": [
    "res.summary()"
   ]
  },
  {
   "cell_type": "code",
   "execution_count": null,
   "metadata": {},
   "outputs": [],
   "source": []
  }
 ],
 "metadata": {
  "kernelspec": {
   "display_name": "Python 3",
   "language": "python",
   "name": "python3"
  },
  "language_info": {
   "codemirror_mode": {
    "name": "ipython",
    "version": 3
   },
   "file_extension": ".py",
   "mimetype": "text/x-python",
   "name": "python",
   "nbconvert_exporter": "python",
   "pygments_lexer": "ipython3",
   "version": "3.7.7"
  }
 },
 "nbformat": 4,
 "nbformat_minor": 4
}
