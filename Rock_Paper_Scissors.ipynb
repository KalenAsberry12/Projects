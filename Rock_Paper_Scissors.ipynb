{
 "cells": [
  {
   "cell_type": "code",
   "execution_count": 1,
   "metadata": {},
   "outputs": [],
   "source": [
    "# # Incorporate the random library\n",
    "import random"
   ]
  },
  {
   "cell_type": "code",
   "execution_count": 2,
   "metadata": {},
   "outputs": [
    {
     "name": "stdout",
     "output_type": "stream",
     "text": [
      "Let's Play Rock Paper Scissors!\n"
     ]
    }
   ],
   "source": [
    "# print Title\n",
    "print(\"Let's Play Rock Paper Scissors!\")"
   ]
  },
  {
   "cell_type": "code",
   "execution_count": 3,
   "metadata": {},
   "outputs": [],
   "source": [
    "# Specify the three options\n",
    "options = [\"r\", \"p\", \"s\"]"
   ]
  },
  {
   "cell_type": "code",
   "execution_count": 6,
   "metadata": {},
   "outputs": [],
   "source": [
    "# Computer Selections\n",
    "computer_choice = random.choice(options)"
   ]
  },
  {
   "cell_type": "code",
   "execution_count": 20,
   "metadata": {},
   "outputs": [
    {
     "name": "stdin",
     "output_type": "stream",
     "text": [
      "Make your Choice: (r)ock, (p)aper, (s)cissors? s\n"
     ]
    }
   ],
   "source": [
    "# User Selection\n",
    "user_choice = input(\"Make your Choice: (r)ock, (p)aper, (s)cissors?\")\n"
   ]
  },
  {
   "cell_type": "code",
   "execution_count": 21,
   "metadata": {},
   "outputs": [
    {
     "name": "stdout",
     "output_type": "stream",
     "text": [
      "You chose paper. The computer chose rock. \n",
      " You lose! \n"
     ]
    }
   ],
   "source": [
    "if (user_choice == \"r\" and computer_choice == \"p\"):\n",
    "    print(\"You chose rock. The computer chose paper. \")\n",
    "    print(\"Sorry. You lose. \")\n",
    "    \n",
    "elif (user_choice == \"r\" and computer_choice == \"s\"):\n",
    "    print(\"You chose rock. The computer chose scissors. \")\n",
    "    print(\" You win. \")\n",
    "    \n",
    "elif (user_choice == \"r\" and computer_choice == \"r\"):\n",
    "    print(\"You chose rock. The computer chose rock. \")\n",
    "    print(\" You tie. Go again! \")\n",
    "    \n",
    "elif (user_choice == \"p\" and computer_choice == \"p\"):\n",
    "    print(\"You chose paper. The computer chose paper. \")\n",
    "    print(\" You tie. Go again! \")\n",
    "    \n",
    "elif (user_choice == \"p\" and computer_choice == \"s\"):\n",
    "    print(\"You chose paper. The computer chose scissors. \")\n",
    "    print(\" You lose! \")\n",
    "    \n",
    "elif (user_choice == \"p\" and computer_choice == \"r\"):\n",
    "    print(\"You chose paper. The computer chose rock. \")\n",
    "    print(\" You win! \")\n",
    "    \n",
    "elif (user_choice == \"s\" and computer_choice == \"s\"):\n",
    "    print(\"You chose paper. The computer chose rock. \")\n",
    "    print(\" You tie! Go again \")\n",
    "    \n",
    "elif (user_choice == \"s\" and computer_choice == \"r\"):\n",
    "    print(\"You chose paper. The computer chose rock. \")\n",
    "    print(\" You lose! \")\n",
    "    \n",
    "elif (user_choice == \"s\" and computer_choice == \"p\"):\n",
    "    print(\"You chose paper. The computer chose rock. \")\n",
    "    print(\" You win! \")\n",
    "    \n",
    "else:\n",
    "    print(\"I don't understand that!\")\n",
    "    print(\"Next time, choose from 'r', 'p' or 's' \")"
   ]
  },
  {
   "cell_type": "code",
   "execution_count": null,
   "metadata": {},
   "outputs": [],
   "source": []
  }
 ],
 "metadata": {
  "kernelspec": {
   "display_name": "Python 3",
   "language": "python",
   "name": "python3"
  },
  "language_info": {
   "codemirror_mode": {
    "name": "ipython",
    "version": 3
   },
   "file_extension": ".py",
   "mimetype": "text/x-python",
   "name": "python",
   "nbconvert_exporter": "python",
   "pygments_lexer": "ipython3",
   "version": "3.7.7"
  }
 },
 "nbformat": 4,
 "nbformat_minor": 4
}
