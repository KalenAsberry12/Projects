{
 "cells": [
  {
   "cell_type": "code",
   "execution_count": 1,
   "metadata": {},
   "outputs": [],
   "source": [
    "# import data libraies \n",
    "import pandas as pd\n",
    "import matplotlib.pyplot as plt\n",
    "%matplotlib inline"
   ]
  },
  {
   "cell_type": "code",
   "execution_count": 2,
   "metadata": {},
   "outputs": [],
   "source": [
    "# calling the date\n",
    "df = pd.read_csv('Resources/Amilcar_tech.csv',index_col='DATE_VENTE', parse_dates = [0], squeeze=True)"
   ]
  },
  {
   "cell_type": "code",
   "execution_count": 3,
   "metadata": {},
   "outputs": [
    {
     "data": {
      "text/html": [
       "<div>\n",
       "<style scoped>\n",
       "    .dataframe tbody tr th:only-of-type {\n",
       "        vertical-align: middle;\n",
       "    }\n",
       "\n",
       "    .dataframe tbody tr th {\n",
       "        vertical-align: top;\n",
       "    }\n",
       "\n",
       "    .dataframe thead th {\n",
       "        text-align: right;\n",
       "    }\n",
       "</style>\n",
       "<table border=\"1\" class=\"dataframe\">\n",
       "  <thead>\n",
       "    <tr style=\"text-align: right;\">\n",
       "      <th></th>\n",
       "      <th>ID_VENTE</th>\n",
       "      <th>ID_ARTICLE</th>\n",
       "      <th>ID_CLIENT</th>\n",
       "      <th>ID_ETABLISSEMENT</th>\n",
       "      <th>LIBELLE_VENTE</th>\n",
       "      <th>PRIX_VENTE</th>\n",
       "      <th>DEVISE_VENTE</th>\n",
       "      <th>ANNEE_VENTE</th>\n",
       "      <th>MOIS_VENTE</th>\n",
       "    </tr>\n",
       "    <tr>\n",
       "      <th>DATE_VENTE</th>\n",
       "      <th></th>\n",
       "      <th></th>\n",
       "      <th></th>\n",
       "      <th></th>\n",
       "      <th></th>\n",
       "      <th></th>\n",
       "      <th></th>\n",
       "      <th></th>\n",
       "      <th></th>\n",
       "    </tr>\n",
       "  </thead>\n",
       "  <tbody>\n",
       "    <tr>\n",
       "      <th>1/12/2009</th>\n",
       "      <td>1</td>\n",
       "      <td>ML1212            003001         X</td>\n",
       "      <td>SC000019</td>\n",
       "      <td>1</td>\n",
       "      <td>Polo Homme  Taille 3  Coloris Blanc</td>\n",
       "      <td>96.88</td>\n",
       "      <td>EUR</td>\n",
       "      <td>2009</td>\n",
       "      <td>1</td>\n",
       "    </tr>\n",
       "    <tr>\n",
       "      <th>1/12/2009</th>\n",
       "      <td>2</td>\n",
       "      <td>ML1212            003007         X</td>\n",
       "      <td>SC000019</td>\n",
       "      <td>1</td>\n",
       "      <td>Polo Homme  Taille 3  Coloris Acidulé</td>\n",
       "      <td>96.88</td>\n",
       "      <td>EUR</td>\n",
       "      <td>2009</td>\n",
       "      <td>1</td>\n",
       "    </tr>\n",
       "    <tr>\n",
       "      <th>1/12/2009</th>\n",
       "      <td>3</td>\n",
       "      <td>ML1212            004001         X</td>\n",
       "      <td>SC000019</td>\n",
       "      <td>1</td>\n",
       "      <td>Polo Homme  Taille 4  Coloris Blanc</td>\n",
       "      <td>193.75</td>\n",
       "      <td>EUR</td>\n",
       "      <td>2009</td>\n",
       "      <td>1</td>\n",
       "    </tr>\n",
       "    <tr>\n",
       "      <th>1/12/2009</th>\n",
       "      <td>4</td>\n",
       "      <td>ML1212            004007         X</td>\n",
       "      <td>SC000019</td>\n",
       "      <td>1</td>\n",
       "      <td>Polo Homme  Taille 4  Coloris Acidulé</td>\n",
       "      <td>193.75</td>\n",
       "      <td>EUR</td>\n",
       "      <td>2009</td>\n",
       "      <td>1</td>\n",
       "    </tr>\n",
       "    <tr>\n",
       "      <th>1/12/2009</th>\n",
       "      <td>5</td>\n",
       "      <td>ML1212            005001         X</td>\n",
       "      <td>SC000019</td>\n",
       "      <td>1</td>\n",
       "      <td>Polo Homme  Taille 5  Coloris Blanc</td>\n",
       "      <td>290.63</td>\n",
       "      <td>EUR</td>\n",
       "      <td>2009</td>\n",
       "      <td>1</td>\n",
       "    </tr>\n",
       "  </tbody>\n",
       "</table>\n",
       "</div>"
      ],
      "text/plain": [
       "           ID_VENTE                          ID_ARTICLE ID_CLIENT  \\\n",
       "DATE_VENTE                                                          \n",
       "1/12/2009         1  ML1212            003001         X  SC000019   \n",
       "1/12/2009         2  ML1212            003007         X  SC000019   \n",
       "1/12/2009         3  ML1212            004001         X  SC000019   \n",
       "1/12/2009         4  ML1212            004007         X  SC000019   \n",
       "1/12/2009         5  ML1212            005001         X  SC000019   \n",
       "\n",
       "           ID_ETABLISSEMENT                          LIBELLE_VENTE  \\\n",
       "DATE_VENTE                                                           \n",
       "1/12/2009                 1    Polo Homme  Taille 3  Coloris Blanc   \n",
       "1/12/2009                 1  Polo Homme  Taille 3  Coloris Acidulé   \n",
       "1/12/2009                 1    Polo Homme  Taille 4  Coloris Blanc   \n",
       "1/12/2009                 1  Polo Homme  Taille 4  Coloris Acidulé   \n",
       "1/12/2009                 1    Polo Homme  Taille 5  Coloris Blanc   \n",
       "\n",
       "            PRIX_VENTE DEVISE_VENTE  ANNEE_VENTE  MOIS_VENTE  \n",
       "DATE_VENTE                                                    \n",
       "1/12/2009        96.88          EUR         2009           1  \n",
       "1/12/2009        96.88          EUR         2009           1  \n",
       "1/12/2009       193.75          EUR         2009           1  \n",
       "1/12/2009       193.75          EUR         2009           1  \n",
       "1/12/2009       290.63          EUR         2009           1  "
      ]
     },
     "execution_count": 3,
     "metadata": {},
     "output_type": "execute_result"
    }
   ],
   "source": [
    "# beginning 5 of data set\n",
    "df.head()"
   ]
  },
  {
   "cell_type": "code",
   "execution_count": 4,
   "metadata": {},
   "outputs": [
    {
     "data": {
      "text/html": [
       "<div>\n",
       "<style scoped>\n",
       "    .dataframe tbody tr th:only-of-type {\n",
       "        vertical-align: middle;\n",
       "    }\n",
       "\n",
       "    .dataframe tbody tr th {\n",
       "        vertical-align: top;\n",
       "    }\n",
       "\n",
       "    .dataframe thead th {\n",
       "        text-align: right;\n",
       "    }\n",
       "</style>\n",
       "<table border=\"1\" class=\"dataframe\">\n",
       "  <thead>\n",
       "    <tr style=\"text-align: right;\">\n",
       "      <th></th>\n",
       "      <th>PRIX_VENTE</th>\n",
       "    </tr>\n",
       "    <tr>\n",
       "      <th>DATE_VENTE</th>\n",
       "      <th></th>\n",
       "    </tr>\n",
       "  </thead>\n",
       "  <tbody>\n",
       "    <tr>\n",
       "      <th>1/12/2009</th>\n",
       "      <td>96.88</td>\n",
       "    </tr>\n",
       "    <tr>\n",
       "      <th>1/12/2009</th>\n",
       "      <td>96.88</td>\n",
       "    </tr>\n",
       "    <tr>\n",
       "      <th>1/12/2009</th>\n",
       "      <td>193.75</td>\n",
       "    </tr>\n",
       "    <tr>\n",
       "      <th>1/12/2009</th>\n",
       "      <td>193.75</td>\n",
       "    </tr>\n",
       "    <tr>\n",
       "      <th>1/12/2009</th>\n",
       "      <td>290.63</td>\n",
       "    </tr>\n",
       "  </tbody>\n",
       "</table>\n",
       "</div>"
      ],
      "text/plain": [
       "            PRIX_VENTE\n",
       "DATE_VENTE            \n",
       "1/12/2009        96.88\n",
       "1/12/2009        96.88\n",
       "1/12/2009       193.75\n",
       "1/12/2009       193.75\n",
       "1/12/2009       290.63"
      ]
     },
     "execution_count": 4,
     "metadata": {},
     "output_type": "execute_result"
    }
   ],
   "source": [
    "# drop columns except 'Prix_vente' and 'Date_vente'\n",
    "df.drop(columns=['ID_VENTE', 'ID_ARTICLE', 'ID_CLIENT', 'ID_ETABLISSEMENT', 'LIBELLE_VENTE', 'DEVISE_VENTE', 'ANNEE_VENTE', 'MOIS_VENTE'], inplace=True)\n",
    "df.head()"
   ]
  },
  {
   "cell_type": "code",
   "execution_count": 5,
   "metadata": {},
   "outputs": [
    {
     "data": {
      "text/plain": [
       "pandas.core.frame.DataFrame"
      ]
     },
     "execution_count": 5,
     "metadata": {},
     "output_type": "execute_result"
    }
   ],
   "source": [
    "type(df)"
   ]
  },
  {
   "cell_type": "code",
   "execution_count": 6,
   "metadata": {},
   "outputs": [
    {
     "data": {
      "text/plain": [
       "array([[ 96.88],\n",
       "       [ 96.88],\n",
       "       [193.75],\n",
       "       ...,\n",
       "       [  0.  ],\n",
       "       [  0.  ],\n",
       "       [  0.  ]])"
      ]
     },
     "execution_count": 6,
     "metadata": {},
     "output_type": "execute_result"
    }
   ],
   "source": [
    "series_value = df.values\n",
    "series_value"
   ]
  },
  {
   "cell_type": "code",
   "execution_count": 7,
   "metadata": {},
   "outputs": [
    {
     "data": {
      "text/plain": [
       "numpy.ndarray"
      ]
     },
     "execution_count": 7,
     "metadata": {},
     "output_type": "execute_result"
    }
   ],
   "source": [
    "type(series_value)"
   ]
  },
  {
   "cell_type": "code",
   "execution_count": 8,
   "metadata": {},
   "outputs": [
    {
     "data": {
      "text/plain": [
       "12446"
      ]
     },
     "execution_count": 8,
     "metadata": {},
     "output_type": "execute_result"
    }
   ],
   "source": [
    "df.size"
   ]
  },
  {
   "cell_type": "code",
   "execution_count": 9,
   "metadata": {},
   "outputs": [
    {
     "data": {
      "text/html": [
       "<div>\n",
       "<style scoped>\n",
       "    .dataframe tbody tr th:only-of-type {\n",
       "        vertical-align: middle;\n",
       "    }\n",
       "\n",
       "    .dataframe tbody tr th {\n",
       "        vertical-align: top;\n",
       "    }\n",
       "\n",
       "    .dataframe thead th {\n",
       "        text-align: right;\n",
       "    }\n",
       "</style>\n",
       "<table border=\"1\" class=\"dataframe\">\n",
       "  <thead>\n",
       "    <tr style=\"text-align: right;\">\n",
       "      <th></th>\n",
       "      <th>PRIX_VENTE</th>\n",
       "    </tr>\n",
       "    <tr>\n",
       "      <th>DATE_VENTE</th>\n",
       "      <th></th>\n",
       "    </tr>\n",
       "  </thead>\n",
       "  <tbody>\n",
       "    <tr>\n",
       "      <th>12/21/2011</th>\n",
       "      <td>0.0</td>\n",
       "    </tr>\n",
       "    <tr>\n",
       "      <th>7/6/2012</th>\n",
       "      <td>0.0</td>\n",
       "    </tr>\n",
       "    <tr>\n",
       "      <th>7/6/2012</th>\n",
       "      <td>0.0</td>\n",
       "    </tr>\n",
       "    <tr>\n",
       "      <th>7/6/2012</th>\n",
       "      <td>0.0</td>\n",
       "    </tr>\n",
       "    <tr>\n",
       "      <th>7/6/2012</th>\n",
       "      <td>0.0</td>\n",
       "    </tr>\n",
       "  </tbody>\n",
       "</table>\n",
       "</div>"
      ],
      "text/plain": [
       "            PRIX_VENTE\n",
       "DATE_VENTE            \n",
       "12/21/2011         0.0\n",
       "7/6/2012           0.0\n",
       "7/6/2012           0.0\n",
       "7/6/2012           0.0\n",
       "7/6/2012           0.0"
      ]
     },
     "execution_count": 9,
     "metadata": {},
     "output_type": "execute_result"
    }
   ],
   "source": [
    "# last five in data set\n",
    "df.tail()"
   ]
  },
  {
   "cell_type": "code",
   "execution_count": 10,
   "metadata": {},
   "outputs": [
    {
     "data": {
      "text/html": [
       "<div>\n",
       "<style scoped>\n",
       "    .dataframe tbody tr th:only-of-type {\n",
       "        vertical-align: middle;\n",
       "    }\n",
       "\n",
       "    .dataframe tbody tr th {\n",
       "        vertical-align: top;\n",
       "    }\n",
       "\n",
       "    .dataframe thead th {\n",
       "        text-align: right;\n",
       "    }\n",
       "</style>\n",
       "<table border=\"1\" class=\"dataframe\">\n",
       "  <thead>\n",
       "    <tr style=\"text-align: right;\">\n",
       "      <th></th>\n",
       "      <th>PRIX_VENTE</th>\n",
       "    </tr>\n",
       "  </thead>\n",
       "  <tbody>\n",
       "    <tr>\n",
       "      <th>count</th>\n",
       "      <td>12157.000000</td>\n",
       "    </tr>\n",
       "    <tr>\n",
       "      <th>mean</th>\n",
       "      <td>394.559032</td>\n",
       "    </tr>\n",
       "    <tr>\n",
       "      <th>std</th>\n",
       "      <td>867.885115</td>\n",
       "    </tr>\n",
       "    <tr>\n",
       "      <th>min</th>\n",
       "      <td>-1815.550000</td>\n",
       "    </tr>\n",
       "    <tr>\n",
       "      <th>25%</th>\n",
       "      <td>21.380000</td>\n",
       "    </tr>\n",
       "    <tr>\n",
       "      <th>50%</th>\n",
       "      <td>52.000000</td>\n",
       "    </tr>\n",
       "    <tr>\n",
       "      <th>75%</th>\n",
       "      <td>397.070000</td>\n",
       "    </tr>\n",
       "    <tr>\n",
       "      <th>max</th>\n",
       "      <td>18418.400000</td>\n",
       "    </tr>\n",
       "  </tbody>\n",
       "</table>\n",
       "</div>"
      ],
      "text/plain": [
       "         PRIX_VENTE\n",
       "count  12157.000000\n",
       "mean     394.559032\n",
       "std      867.885115\n",
       "min    -1815.550000\n",
       "25%       21.380000\n",
       "50%       52.000000\n",
       "75%      397.070000\n",
       "max    18418.400000"
      ]
     },
     "execution_count": 10,
     "metadata": {},
     "output_type": "execute_result"
    }
   ],
   "source": [
    "#dataframe stats\n",
    "df.describe()"
   ]
  },
  {
   "cell_type": "code",
   "execution_count": 11,
   "metadata": {},
   "outputs": [
    {
     "data": {
      "text/html": [
       "<div>\n",
       "<style scoped>\n",
       "    .dataframe tbody tr th:only-of-type {\n",
       "        vertical-align: middle;\n",
       "    }\n",
       "\n",
       "    .dataframe tbody tr th {\n",
       "        vertical-align: top;\n",
       "    }\n",
       "\n",
       "    .dataframe thead th {\n",
       "        text-align: right;\n",
       "    }\n",
       "</style>\n",
       "<table border=\"1\" class=\"dataframe\">\n",
       "  <thead>\n",
       "    <tr style=\"text-align: right;\">\n",
       "      <th></th>\n",
       "      <th>PRIX_VENTE</th>\n",
       "    </tr>\n",
       "    <tr>\n",
       "      <th>DATE_VENTE</th>\n",
       "      <th></th>\n",
       "    </tr>\n",
       "  </thead>\n",
       "  <tbody>\n",
       "    <tr>\n",
       "      <th>1/12/2009</th>\n",
       "      <td>579.229787</td>\n",
       "    </tr>\n",
       "    <tr>\n",
       "      <th>1/12/2010</th>\n",
       "      <td>179.400000</td>\n",
       "    </tr>\n",
       "    <tr>\n",
       "      <th>1/13/2010</th>\n",
       "      <td>0.000000</td>\n",
       "    </tr>\n",
       "    <tr>\n",
       "      <th>1/4/2012</th>\n",
       "      <td>0.000000</td>\n",
       "    </tr>\n",
       "    <tr>\n",
       "      <th>1/5/2012</th>\n",
       "      <td>0.000000</td>\n",
       "    </tr>\n",
       "  </tbody>\n",
       "</table>\n",
       "</div>"
      ],
      "text/plain": [
       "            PRIX_VENTE\n",
       "DATE_VENTE            \n",
       "1/12/2009   579.229787\n",
       "1/12/2010   179.400000\n",
       "1/13/2010     0.000000\n",
       "1/4/2012      0.000000\n",
       "1/5/2012      0.000000"
      ]
     },
     "execution_count": 11,
     "metadata": {},
     "output_type": "execute_result"
    }
   ],
   "source": [
    "prix_vente = df.groupby('DATE_VENTE').mean()\n",
    "prix_vente.head()"
   ]
  },
  {
   "cell_type": "code",
   "execution_count": 12,
   "metadata": {},
   "outputs": [
    {
     "data": {
      "text/plain": [
       "<matplotlib.axes._subplots.AxesSubplot at 0x20cca678fc8>"
      ]
     },
     "execution_count": 12,
     "metadata": {},
     "output_type": "execute_result"
    },
    {
     "data": {
      "image/png": "[encoded data removed]",
      "text/plain": [
       "<Figure size 1080x360 with 1 Axes>"
      ]
     },
     "metadata": {
      "needs_background": "light"
     },
     "output_type": "display_data"
    }
   ],
   "source": [
    "# stationary series \n",
    "prix_vente.plot(figsize=(15,5))"
   ]
  },
  {
   "cell_type": "code",
   "execution_count": 13,
   "metadata": {},
   "outputs": [],
   "source": [
    "#rolling 30 day mean or moving average \n",
    "prix_vente_mean = prix_vente.rolling(window = 30).mean()"
   ]
  },
  {
   "cell_type": "code",
   "execution_count": 14,
   "metadata": {},
   "outputs": [
    {
     "data": {
      "text/plain": [
       "<matplotlib.axes._subplots.AxesSubplot at 0x20ccae7a648>"
      ]
     },
     "execution_count": 14,
     "metadata": {},
     "output_type": "execute_result"
    },
    {
     "data": {
      "image/png": "[encoded data removed]",
      "text/plain": [
       "<Figure size 1080x360 with 1 Axes>"
      ]
     },
     "metadata": {
      "needs_background": "light"
     },
     "output_type": "display_data"
    },
    {
     "data": {
      "image/png": "[encoded data removed]",
      "text/plain": [
       "<Figure size 1080x360 with 1 Axes>"
      ]
     },
     "metadata": {
      "needs_background": "light"
     },
     "output_type": "display_data"
    }
   ],
   "source": [
    "prix_vente.plot(figsize=(15,5))\n",
    "prix_vente_mean.plot(figsize=(15,5))"
   ]
  },
  {
   "cell_type": "code",
   "execution_count": 15,
   "metadata": {},
   "outputs": [],
   "source": [
    "value = pd.DataFrame(series_value)"
   ]
  },
  {
   "cell_type": "code",
   "execution_count": 16,
   "metadata": {},
   "outputs": [],
   "source": [
    "# shift down one row\n",
    "prix_df = pd.concat([value, value.shift(1)],axis=1)"
   ]
  },
  {
   "cell_type": "code",
   "execution_count": 17,
   "metadata": {},
   "outputs": [
    {
     "data": {
      "text/html": [
       "<div>\n",
       "<style scoped>\n",
       "    .dataframe tbody tr th:only-of-type {\n",
       "        vertical-align: middle;\n",
       "    }\n",
       "\n",
       "    .dataframe tbody tr th {\n",
       "        vertical-align: top;\n",
       "    }\n",
       "\n",
       "    .dataframe thead th {\n",
       "        text-align: right;\n",
       "    }\n",
       "</style>\n",
       "<table border=\"1\" class=\"dataframe\">\n",
       "  <thead>\n",
       "    <tr style=\"text-align: right;\">\n",
       "      <th></th>\n",
       "      <th>0</th>\n",
       "      <th>0</th>\n",
       "    </tr>\n",
       "  </thead>\n",
       "  <tbody>\n",
       "    <tr>\n",
       "      <th>0</th>\n",
       "      <td>96.88</td>\n",
       "      <td>NaN</td>\n",
       "    </tr>\n",
       "    <tr>\n",
       "      <th>1</th>\n",
       "      <td>96.88</td>\n",
       "      <td>96.88</td>\n",
       "    </tr>\n",
       "    <tr>\n",
       "      <th>2</th>\n",
       "      <td>193.75</td>\n",
       "      <td>96.88</td>\n",
       "    </tr>\n",
       "    <tr>\n",
       "      <th>3</th>\n",
       "      <td>193.75</td>\n",
       "      <td>193.75</td>\n",
       "    </tr>\n",
       "    <tr>\n",
       "      <th>4</th>\n",
       "      <td>290.63</td>\n",
       "      <td>193.75</td>\n",
       "    </tr>\n",
       "  </tbody>\n",
       "</table>\n",
       "</div>"
      ],
      "text/plain": [
       "        0       0\n",
       "0   96.88     NaN\n",
       "1   96.88   96.88\n",
       "2  193.75   96.88\n",
       "3  193.75  193.75\n",
       "4  290.63  193.75"
      ]
     },
     "execution_count": 17,
     "metadata": {},
     "output_type": "execute_result"
    }
   ],
   "source": [
    "prix_df.head()"
   ]
  },
  {
   "cell_type": "code",
   "execution_count": 18,
   "metadata": {},
   "outputs": [],
   "source": [
    "prix_df.columns = ['Actual_Prix_Vente', 'Forecast_Prix_Vente']"
   ]
  },
  {
   "cell_type": "code",
   "execution_count": 19,
   "metadata": {},
   "outputs": [
    {
     "data": {
      "text/html": [
       "<div>\n",
       "<style scoped>\n",
       "    .dataframe tbody tr th:only-of-type {\n",
       "        vertical-align: middle;\n",
       "    }\n",
       "\n",
       "    .dataframe tbody tr th {\n",
       "        vertical-align: top;\n",
       "    }\n",
       "\n",
       "    .dataframe thead th {\n",
       "        text-align: right;\n",
       "    }\n",
       "</style>\n",
       "<table border=\"1\" class=\"dataframe\">\n",
       "  <thead>\n",
       "    <tr style=\"text-align: right;\">\n",
       "      <th></th>\n",
       "      <th>Actual_Prix_Vente</th>\n",
       "      <th>Forecast_Prix_Vente</th>\n",
       "    </tr>\n",
       "  </thead>\n",
       "  <tbody>\n",
       "    <tr>\n",
       "      <th>0</th>\n",
       "      <td>96.88</td>\n",
       "      <td>NaN</td>\n",
       "    </tr>\n",
       "    <tr>\n",
       "      <th>1</th>\n",
       "      <td>96.88</td>\n",
       "      <td>96.88</td>\n",
       "    </tr>\n",
       "    <tr>\n",
       "      <th>2</th>\n",
       "      <td>193.75</td>\n",
       "      <td>96.88</td>\n",
       "    </tr>\n",
       "    <tr>\n",
       "      <th>3</th>\n",
       "      <td>193.75</td>\n",
       "      <td>193.75</td>\n",
       "    </tr>\n",
       "    <tr>\n",
       "      <th>4</th>\n",
       "      <td>290.63</td>\n",
       "      <td>193.75</td>\n",
       "    </tr>\n",
       "  </tbody>\n",
       "</table>\n",
       "</div>"
      ],
      "text/plain": [
       "   Actual_Prix_Vente  Forecast_Prix_Vente\n",
       "0              96.88                  NaN\n",
       "1              96.88                96.88\n",
       "2             193.75                96.88\n",
       "3             193.75               193.75\n",
       "4             290.63               193.75"
      ]
     },
     "execution_count": 19,
     "metadata": {},
     "output_type": "execute_result"
    }
   ],
   "source": [
    "prix_df.head()"
   ]
  },
  {
   "cell_type": "code",
   "execution_count": 20,
   "metadata": {},
   "outputs": [],
   "source": [
    "from sklearn.metrics import mean_squared_error\n",
    "import numpy as np"
   ]
  },
  {
   "cell_type": "code",
   "execution_count": 21,
   "metadata": {},
   "outputs": [
    {
     "data": {
      "text/html": [
       "<div>\n",
       "<style scoped>\n",
       "    .dataframe tbody tr th:only-of-type {\n",
       "        vertical-align: middle;\n",
       "    }\n",
       "\n",
       "    .dataframe tbody tr th {\n",
       "        vertical-align: top;\n",
       "    }\n",
       "\n",
       "    .dataframe thead th {\n",
       "        text-align: right;\n",
       "    }\n",
       "</style>\n",
       "<table border=\"1\" class=\"dataframe\">\n",
       "  <thead>\n",
       "    <tr style=\"text-align: right;\">\n",
       "      <th></th>\n",
       "      <th>Actual_Prix_Vente</th>\n",
       "      <th>Forecast_Prix_Vente</th>\n",
       "    </tr>\n",
       "  </thead>\n",
       "  <tbody>\n",
       "    <tr>\n",
       "      <th>0</th>\n",
       "      <td>96.88</td>\n",
       "      <td>NaN</td>\n",
       "    </tr>\n",
       "    <tr>\n",
       "      <th>1</th>\n",
       "      <td>96.88</td>\n",
       "      <td>96.88</td>\n",
       "    </tr>\n",
       "    <tr>\n",
       "      <th>2</th>\n",
       "      <td>193.75</td>\n",
       "      <td>96.88</td>\n",
       "    </tr>\n",
       "    <tr>\n",
       "      <th>3</th>\n",
       "      <td>193.75</td>\n",
       "      <td>193.75</td>\n",
       "    </tr>\n",
       "    <tr>\n",
       "      <th>4</th>\n",
       "      <td>290.63</td>\n",
       "      <td>193.75</td>\n",
       "    </tr>\n",
       "  </tbody>\n",
       "</table>\n",
       "</div>"
      ],
      "text/plain": [
       "   Actual_Prix_Vente  Forecast_Prix_Vente\n",
       "0              96.88                  NaN\n",
       "1              96.88                96.88\n",
       "2             193.75                96.88\n",
       "3             193.75               193.75\n",
       "4             290.63               193.75"
      ]
     },
     "execution_count": 21,
     "metadata": {},
     "output_type": "execute_result"
    }
   ],
   "source": [
    "prix_df.head()"
   ]
  },
  {
   "cell_type": "code",
   "execution_count": 22,
   "metadata": {},
   "outputs": [],
   "source": [
    "# running large numbers\n",
    "prix_test = prix_df[~prix_df.isin([np.nan, np.inf, -np.inf]).any(1)]"
   ]
  },
  {
   "cell_type": "code",
   "execution_count": 23,
   "metadata": {},
   "outputs": [],
   "source": [
    "# test range\n",
    "prix_test = prix_test[1:]"
   ]
  },
  {
   "cell_type": "code",
   "execution_count": 24,
   "metadata": {},
   "outputs": [],
   "source": [
    "prix_error = mean_squared_error(prix_test.Actual_Prix_Vente, prix_test.Forecast_Prix_Vente)"
   ]
  },
  {
   "cell_type": "code",
   "execution_count": 25,
   "metadata": {},
   "outputs": [
    {
     "data": {
      "text/plain": [
       "394234.5151479938"
      ]
     },
     "execution_count": 25,
     "metadata": {},
     "output_type": "execute_result"
    }
   ],
   "source": [
    "prix_error"
   ]
  },
  {
   "cell_type": "code",
   "execution_count": 26,
   "metadata": {},
   "outputs": [
    {
     "data": {
      "text/plain": [
       "627.8809721181187"
      ]
     },
     "execution_count": 26,
     "metadata": {},
     "output_type": "execute_result"
    }
   ],
   "source": [
    "# Sqr root\n",
    "np.sqrt(prix_error)"
   ]
  },
  {
   "cell_type": "code",
   "execution_count": null,
   "metadata": {},
   "outputs": [],
   "source": [
    "ARIMA - Autoregression (p) Integrated (d) Moving Average (q)"
   ]
  },
  {
   "cell_type": "code",
   "execution_count": 28,
   "metadata": {},
   "outputs": [],
   "source": [
    "# import libraries\n",
    "from statsmodels.graphics.tsaplots import plot_acf,plot_pacf"
   ]
  },
  {
   "cell_type": "code",
   "execution_count": 29,
   "metadata": {},
   "outputs": [
    {
     "data": {
      "image/png": "[encoded data removed]",
      "text/plain": [
       "<Figure size 432x288 with 1 Axes>"
      ]
     },
     "execution_count": 29,
     "metadata": {},
     "output_type": "execute_result"
    },
    {
     "data": {
      "image/png": "[encoded data removed]",
      "text/plain": [
       "<Figure size 432x288 with 1 Axes>"
      ]
     },
     "metadata": {
      "needs_background": "light"
     },
     "output_type": "display_data"
    }
   ],
   "source": [
    "#plot_acf is to indentify parameter Q\n",
    "#ARIMA (P,D,Q)\n",
    "plot_acf(prix_vente)"
   ]
  },
  {
   "cell_type": "code",
   "execution_count": 30,
   "metadata": {},
   "outputs": [
    {
     "data": {
      "image/png": "[encoded data removed]",
      "text/plain": [
       "<Figure size 432x288 with 1 Axes>"
      ]
     },
     "execution_count": 30,
     "metadata": {},
     "output_type": "execute_result"
    },
    {
     "data": {
      "image/png": "[encoded data removed]",
      "text/plain": [
       "<Figure size 432x288 with 1 Axes>"
      ]
     },
     "metadata": {
      "needs_background": "light"
     },
     "output_type": "display_data"
    }
   ],
   "source": [
    "#plot_pacf is to indentify parameter P\n",
    "\n",
    "plot_pacf(prix_vente)"
   ]
  },
  {
   "cell_type": "code",
   "execution_count": 31,
   "metadata": {},
   "outputs": [
    {
     "data": {
      "text/plain": [
       "12446"
      ]
     },
     "execution_count": 31,
     "metadata": {},
     "output_type": "execute_result"
    }
   ],
   "source": [
    "# p = 2,3 d = 0 &q = 3,4\n",
    "df.size"
   ]
  },
  {
   "cell_type": "code",
   "execution_count": 32,
   "metadata": {},
   "outputs": [],
   "source": [
    "prix_train = df[0:12000]\n",
    "prix_test = df[12000:12446]"
   ]
  },
  {
   "cell_type": "code",
   "execution_count": 33,
   "metadata": {},
   "outputs": [
    {
     "data": {
      "text/plain": [
       "12000"
      ]
     },
     "execution_count": 33,
     "metadata": {},
     "output_type": "execute_result"
    }
   ],
   "source": [
    "prix_train.size"
   ]
  },
  {
   "cell_type": "code",
   "execution_count": 34,
   "metadata": {},
   "outputs": [
    {
     "data": {
      "text/plain": [
       "446"
      ]
     },
     "execution_count": 34,
     "metadata": {},
     "output_type": "execute_result"
    }
   ],
   "source": [
    "prix_test.size"
   ]
  },
  {
   "cell_type": "code",
   "execution_count": 35,
   "metadata": {},
   "outputs": [],
   "source": [
    "# import ARIMA\n",
    "from statsmodels.tsa.arima_model import ARIMA\n"
   ]
  },
  {
   "cell_type": "code",
   "execution_count": 36,
   "metadata": {},
   "outputs": [
    {
     "data": {
      "text/html": [
       "<div>\n",
       "<style scoped>\n",
       "    .dataframe tbody tr th:only-of-type {\n",
       "        vertical-align: middle;\n",
       "    }\n",
       "\n",
       "    .dataframe tbody tr th {\n",
       "        vertical-align: top;\n",
       "    }\n",
       "\n",
       "    .dataframe thead th {\n",
       "        text-align: right;\n",
       "    }\n",
       "</style>\n",
       "<table border=\"1\" class=\"dataframe\">\n",
       "  <thead>\n",
       "    <tr style=\"text-align: right;\">\n",
       "      <th></th>\n",
       "      <th>DATE_VENTE</th>\n",
       "      <th>PRIX_VENTE</th>\n",
       "    </tr>\n",
       "  </thead>\n",
       "  <tbody>\n",
       "    <tr>\n",
       "      <th>0</th>\n",
       "      <td>1/12/2009</td>\n",
       "      <td>96.88</td>\n",
       "    </tr>\n",
       "    <tr>\n",
       "      <th>1</th>\n",
       "      <td>1/12/2009</td>\n",
       "      <td>96.88</td>\n",
       "    </tr>\n",
       "    <tr>\n",
       "      <th>2</th>\n",
       "      <td>1/12/2009</td>\n",
       "      <td>193.75</td>\n",
       "    </tr>\n",
       "    <tr>\n",
       "      <th>3</th>\n",
       "      <td>1/12/2009</td>\n",
       "      <td>193.75</td>\n",
       "    </tr>\n",
       "    <tr>\n",
       "      <th>4</th>\n",
       "      <td>1/12/2009</td>\n",
       "      <td>290.63</td>\n",
       "    </tr>\n",
       "  </tbody>\n",
       "</table>\n",
       "</div>"
      ],
      "text/plain": [
       "  DATE_VENTE  PRIX_VENTE\n",
       "0  1/12/2009       96.88\n",
       "1  1/12/2009       96.88\n",
       "2  1/12/2009      193.75\n",
       "3  1/12/2009      193.75\n",
       "4  1/12/2009      290.63"
      ]
     },
     "execution_count": 36,
     "metadata": {},
     "output_type": "execute_result"
    }
   ],
   "source": [
    "prix_train = prix_train.reset_index()\n",
    "prix_train.head()"
   ]
  },
  {
   "cell_type": "code",
   "execution_count": 37,
   "metadata": {},
   "outputs": [],
   "source": [
    "prix_train[\"DATE_VENTE\"]=pd.to_datetime(prix_train[\"DATE_VENTE\"])"
   ]
  },
  {
   "cell_type": "code",
   "execution_count": 38,
   "metadata": {},
   "outputs": [
    {
     "data": {
      "text/plain": [
       "DATE_VENTE    datetime64[ns]\n",
       "PRIX_VENTE           float64\n",
       "dtype: object"
      ]
     },
     "execution_count": 38,
     "metadata": {},
     "output_type": "execute_result"
    }
   ],
   "source": [
    "prix_train.dtypes"
   ]
  },
  {
   "cell_type": "code",
   "execution_count": 56,
   "metadata": {},
   "outputs": [],
   "source": [
    "model = ARIMA(prix_train['DATE_VENTE'].values, order=(5,1,0))"
   ]
  },
  {
   "cell_type": "code",
   "execution_count": 60,
   "metadata": {},
   "outputs": [],
   "source": [
    "prix_model = model.fit(disp=0)"
   ]
  },
  {
   "cell_type": "code",
   "execution_count": 63,
   "metadata": {},
   "outputs": [
    {
     "name": "stdout",
     "output_type": "stream",
     "text": [
      "                              ARIMA Model Results                               \n",
      "================================================================================\n",
      "Dep. Variable:                    D.y   No. Observations:                  11999\n",
      "Model:                 ARIMA(5, 1, 0)   Log Likelihood               -457645.635\n",
      "Method:                       css-mle   S.D. of innovations 8869259797753183.000\n",
      "Date:                Tue, 09 Jun 2020   AIC                           915305.270\n",
      "Time:                        05:25:27   BIC                           915357.018\n",
      "Sample:                             1   HQIC                          915322.629\n",
      "                                                                                \n",
      "==============================================================================\n",
      "                 coef    std err          z      P>|z|      [0.025      0.975]\n",
      "------------------------------------------------------------------------------\n",
      "const       1.887e+12   4.51e+13      0.042      0.967   -8.65e+13    9.03e+13\n",
      "ar.L1.D.y     -0.4011      0.009    -43.987      0.000      -0.419      -0.383\n",
      "ar.L2.D.y     -0.1969      0.010    -20.064      0.000      -0.216      -0.178\n",
      "ar.L3.D.y     -0.0960      0.010     -9.662      0.000      -0.115      -0.077\n",
      "ar.L4.D.y     -0.0532      0.010     -5.420      0.000      -0.072      -0.034\n",
      "ar.L5.D.y     -0.0483      0.009     -5.300      0.000      -0.066      -0.030\n",
      "                                    Roots                                    \n",
      "=============================================================================\n",
      "                  Real          Imaginary           Modulus         Frequency\n",
      "-----------------------------------------------------------------------------\n",
      "AR.1            1.1319           -1.5067j            1.8845           -0.1475\n",
      "AR.2            1.1319           +1.5067j            1.8845            0.1475\n",
      "AR.3           -1.8007           -0.0000j            1.8007           -0.5000\n",
      "AR.4           -0.7819           -1.6202j            1.7990           -0.3216\n",
      "AR.5           -0.7819           +1.6202j            1.7990            0.3216\n",
      "-----------------------------------------------------------------------------\n"
     ]
    }
   ],
   "source": [
    "\n",
    "print(prix_model.summary())"
   ]
  },
  {
   "cell_type": "code",
   "execution_count": null,
   "metadata": {},
   "outputs": [],
   "source": [
    "prix_forecast = prix_model.forecast(steps = 100)[0]"
   ]
  },
  {
   "cell_type": "code",
   "execution_count": null,
   "metadata": {},
   "outputs": [],
   "source": []
  }
 ],
 "metadata": {
  "kernelspec": {
   "display_name": "Python 3",
   "language": "python",
   "name": "python3"
  },
  "language_info": {
   "codemirror_mode": {
    "name": "ipython",
    "version": 3
   },
   "file_extension": ".py",
   "mimetype": "text/x-python",
   "name": "python",
   "nbconvert_exporter": "python",
   "pygments_lexer": "ipython3",
   "version": "3.7.7"
  }
 },
 "nbformat": 4,
 "nbformat_minor": 4
}
