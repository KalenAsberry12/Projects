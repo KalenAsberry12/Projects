{
 "cells": [
  {
   "cell_type": "markdown",
   "metadata": {},
   "source": [
    "# House of Requests"
   ]
  },
  {
   "cell_type": "markdown",
   "metadata": {},
   "source": [
    "Use the `Deck of Cards` API to play a game of BlackJack with a partner. Parameterize the `Deck of Cards` API `request urls` in order to create the deck of cards, as well as draw cards for the game."
   ]
  },
  {
   "cell_type": "code",
   "execution_count": 2,
   "metadata": {},
   "outputs": [],
   "source": [
    "import requests\n",
    "import json"
   ]
  },
  {
   "cell_type": "markdown",
   "metadata": {},
   "source": [
    "## Prep for the Game"
   ]
  },
  {
   "cell_type": "code",
   "execution_count": 8,
   "metadata": {},
   "outputs": [
    {
     "data": {
      "text/plain": [
       "{'success': True,\n",
       " 'deck_id': 'ttc9z7kfwq4l',\n",
       " 'remaining': 312,\n",
       " 'shuffled': True}"
      ]
     },
     "execution_count": 8,
     "metadata": {},
     "output_type": "execute_result"
    }
   ],
   "source": [
    "# Declare request urls\n",
    "create_deck_url = \"https://deckofcardsapi.com/api/deck/new/shuffle/?deck_count=6\"\n",
    "draw_cards_url = \"https://deckofcardsapi.com/api/deck/{deck_id}/draw/?count=2\"\n",
    "shuffle_deck_url = \"https://deckofcardsapi.com/api/deck/{deck_id}/shuffle/\"\n",
    "\n",
    "# Execute create deck url\n",
    "create_data = requests.get(create_deck_url).json()\n",
    "create_data"
   ]
  },
  {
   "cell_type": "markdown",
   "metadata": {},
   "source": [
    "### Parse JSON and extract `deck_id`"
   ]
  },
  {
   "cell_type": "code",
   "execution_count": 9,
   "metadata": {},
   "outputs": [
    {
     "name": "stdout",
     "output_type": "stream",
     "text": [
      "ttc9z7kfwq4l\n"
     ]
    }
   ],
   "source": [
    "# Select deck_id\n",
    "deck_id = create_data['deck_id']\n",
    "print(deck_id)"
   ]
  },
  {
   "cell_type": "markdown",
   "metadata": {},
   "source": [
    "### Update `draw_cards_url` and `shuffle_deck_url` with `deck_id`"
   ]
  },
  {
   "cell_type": "code",
   "execution_count": 13,
   "metadata": {},
   "outputs": [
    {
     "name": "stdout",
     "output_type": "stream",
     "text": [
      "https://deckofcardsapi.com/api/deck/ttc9z7kfwq4l/draw/?count=2\n",
      "https://deckofcardsapi.com/api/deck/ttc9z7kfwq4l/shuffle/\n"
     ]
    }
   ],
   "source": [
    "# Interpolate deck_id into draw_cards_url and shuffle_deck_url\n",
    "draw_cards_url = f\"https://deckofcardsapi.com/api/deck/{deck_id}/draw/?count=2\"\n",
    "shuffle_deck_url = f\"https://deckofcardsapi.com/api/deck/{deck_id}/shuffle/\"\n",
    "print(draw_cards_url)\n",
    "print(shuffle_deck_url)"
   ]
  },
  {
   "cell_type": "markdown",
   "metadata": {},
   "source": [
    "## Player 1 Turn"
   ]
  },
  {
   "cell_type": "markdown",
   "metadata": {},
   "source": [
    "### Draw two cards"
   ]
  },
  {
   "cell_type": "code",
   "execution_count": 15,
   "metadata": {},
   "outputs": [
    {
     "data": {
      "text/plain": [
       "{'success': True,\n",
       " 'deck_id': 'ttc9z7kfwq4l',\n",
       " 'cards': [{'code': '6S',\n",
       "   'image': 'https://deckofcardsapi.com/static/img/6S.png',\n",
       "   'images': {'svg': 'https://deckofcardsapi.com/static/img/6S.svg',\n",
       "    'png': 'https://deckofcardsapi.com/static/img/6S.png'},\n",
       "   'value': '6',\n",
       "   'suit': 'SPADES'},\n",
       "  {'code': 'AD',\n",
       "   'image': 'https://deckofcardsapi.com/static/img/aceDiamonds.png',\n",
       "   'images': {'svg': 'https://deckofcardsapi.com/static/img/aceDiamonds.svg',\n",
       "    'png': 'https://deckofcardsapi.com/static/img/aceDiamonds.png'},\n",
       "   'value': 'ACE',\n",
       "   'suit': 'DIAMONDS'}],\n",
       " 'remaining': 308}"
      ]
     },
     "execution_count": 15,
     "metadata": {},
     "output_type": "execute_result"
    }
   ],
   "source": [
    "# Draw two cards\n",
    "\n",
    "hand = requests.get(draw_cards_url).json()\n",
    "hand"
   ]
  },
  {
   "cell_type": "markdown",
   "metadata": {},
   "source": [
    "### Parse and extract `value` and `suit` elements from JSON output, for each card"
   ]
  },
  {
   "cell_type": "code",
   "execution_count": 21,
   "metadata": {},
   "outputs": [
    {
     "name": "stdout",
     "output_type": "stream",
     "text": [
      "6 of SPADES\n",
      "ACE of DIAMONDS\n"
     ]
    }
   ],
   "source": [
    "# Select returned card's value and suit (i.e. 3 of clubs)\n",
    "player_1_card_1 = hand['cards'][0]['value'] + \" \" + 'of' + \" \" + hand['cards'][0]['suit']\n",
    "\n",
    "# Print player cards\n",
    "print(player_1_card_1)\n",
    "player_1_card_2 = hand['cards'][1]['value'] + \" \" + 'of' + \" \" + hand['cards'][1]['suit']\n",
    "print(player_1_card_2)"
   ]
  },
  {
   "cell_type": "markdown",
   "metadata": {},
   "source": [
    "### Decide whether to draw another card or skip to next player turn"
   ]
  },
  {
   "cell_type": "code",
   "execution_count": 30,
   "metadata": {},
   "outputs": [],
   "source": [
    "# One card pull\n",
    "draw_cards_url_1 = f\"https://deckofcardsapi.com/api/deck/{deck_id}/draw/?count=1\""
   ]
  },
  {
   "cell_type": "code",
   "execution_count": 32,
   "metadata": {},
   "outputs": [
    {
     "name": "stdout",
     "output_type": "stream",
     "text": [
      "6 of SPADES\n"
     ]
    }
   ],
   "source": [
    "# Draw a third card\n",
    "Third_card = requests.get(draw_cards_url_1).json()\n",
    "\n",
    "# Select returned card's value and suit (i.e. 3 of clubs)\n",
    "player_1_card_3 = hand['cards'][0]['value'] + \" \" + 'of' + \" \" + hand['cards'][0]['suit']\n",
    "\n",
    "# Print player card\n",
    "print(player_1_card_3)"
   ]
  },
  {
   "cell_type": "markdown",
   "metadata": {},
   "source": [
    "### Manually calculate player 1 points and enter below"
   ]
  },
  {
   "cell_type": "markdown",
   "metadata": {},
   "source": [
    "Player 1 points = "
   ]
  },
  {
   "cell_type": "raw",
   "metadata": {},
   "source": []
  },
  {
   "cell_type": "markdown",
   "metadata": {},
   "source": [
    "## Player 2 / Dealer Turn"
   ]
  },
  {
   "cell_type": "code",
   "execution_count": 24,
   "metadata": {},
   "outputs": [],
   "source": [
    "#shuffle cards\n",
    "shuffle_deck = f\"https://deckofcardsapi.com/api/deck/{deck_id}/shuffle/\"\n",
    "shuffle = requests.get(shuffle_deck_url).json()\n"
   ]
  },
  {
   "cell_type": "code",
   "execution_count": 26,
   "metadata": {},
   "outputs": [
    {
     "data": {
      "text/plain": [
       "{'success': True,\n",
       " 'deck_id': 'ttc9z7kfwq4l',\n",
       " 'cards': [{'code': '0C',\n",
       "   'image': 'https://deckofcardsapi.com/static/img/0C.png',\n",
       "   'images': {'svg': 'https://deckofcardsapi.com/static/img/0C.svg',\n",
       "    'png': 'https://deckofcardsapi.com/static/img/0C.png'},\n",
       "   'value': '10',\n",
       "   'suit': 'CLUBS'},\n",
       "  {'code': '4H',\n",
       "   'image': 'https://deckofcardsapi.com/static/img/4H.png',\n",
       "   'images': {'svg': 'https://deckofcardsapi.com/static/img/4H.svg',\n",
       "    'png': 'https://deckofcardsapi.com/static/img/4H.png'},\n",
       "   'value': '4',\n",
       "   'suit': 'HEARTS'}],\n",
       " 'remaining': 308}"
      ]
     },
     "execution_count": 26,
     "metadata": {},
     "output_type": "execute_result"
    }
   ],
   "source": [
    "dealer = requests.get(draw_cards_url).json()\n",
    "dealer"
   ]
  },
  {
   "cell_type": "code",
   "execution_count": 27,
   "metadata": {},
   "outputs": [
    {
     "name": "stdout",
     "output_type": "stream",
     "text": [
      "10 of CLUBS\n",
      "4 of HEARTS\n"
     ]
    }
   ],
   "source": [
    "\n",
    "# Select card value and suit \n",
    "player_2_card_1 = dealer['cards'][0]['value'] + \" \" + 'of' + \" \" + dealer['cards'][0]['suit']\n",
    "\n",
    "\n",
    "# Print player cards\n",
    "print(player_2_card_1)\n",
    "\n",
    "\n",
    "player_2_card_2 = dealer['cards'][1]['value'] + \" \" + 'of' + \" \" + dealer['cards'][1]['suit']\n",
    "\n",
    "print(player_2_card_2)\n",
    "# Draw third card for player 2\n",
    "\n",
    "\n",
    "# Print player card\n"
   ]
  },
  {
   "cell_type": "markdown",
   "metadata": {},
   "source": [
    "### Manually calculate player 2 points and enter below"
   ]
  },
  {
   "cell_type": "markdown",
   "metadata": {},
   "source": [
    "Player 2 points ="
   ]
  },
  {
   "cell_type": "raw",
   "metadata": {},
   "source": []
  }
 ],
 "metadata": {
  "kernelspec": {
   "display_name": "Python 3",
   "language": "python",
   "name": "python3"
  },
  "language_info": {
   "codemirror_mode": {
    "name": "ipython",
    "version": 3
   },
   "file_extension": ".py",
   "mimetype": "text/x-python",
   "name": "python",
   "nbconvert_exporter": "python",
   "pygments_lexer": "ipython3",
   "version": "3.7.7"
  }
 },
 "nbformat": 4,
 "nbformat_minor": 4
}
